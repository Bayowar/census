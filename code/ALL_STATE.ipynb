{
 "cells": [
  {
   "cell_type": "code",
   "execution_count": 1,
   "id": "0ebdf6ff-ddd1-42ee-982a-f99950d71ff6",
   "metadata": {},
   "outputs": [
    {
     "name": "stdout",
     "output_type": "stream",
     "text": [
      "time: 3.34 s (started: 2024-10-17 03:41:03 -04:00)\n"
     ]
    }
   ],
   "source": [
    "# Load necessary libraries\n",
    "%load_ext autotime\n",
    "import os\n",
    "import requests\n",
    "import pandas as pd\n",
    "from bs4 import BeautifulSoup\n",
    "from dotenv import load_dotenv"
   ]
  },
  {
   "cell_type": "code",
   "execution_count": 2,
   "id": "07dd835f-42f3-4364-b942-fe35d5b93e41",
   "metadata": {},
   "outputs": [
    {
     "name": "stdout",
     "output_type": "stream",
     "text": [
      "time: 0 ns (started: 2024-10-17 03:41:07 -04:00)\n"
     ]
    }
   ],
   "source": [
    "# Load API key from enivornment variable\n",
    "load_dotenv(dotenv_path='key.env')\n",
    "api_key=os.getenv('API_KEY')\n"
   ]
  },
  {
   "cell_type": "code",
   "execution_count": 3,
   "id": "ee66e8fe-0b6b-48d1-bf18-51e2eb501f38",
   "metadata": {},
   "outputs": [
    {
     "name": "stdout",
     "output_type": "stream",
     "text": [
      "time: 14.5 s (started: 2024-10-17 03:41:07 -04:00)\n"
     ]
    }
   ],
   "source": [
    "# race variables (from ACS)\n",
    "race_variable = [\n",
    "        'B02001_001E',  # Estimate!!Total\n",
    "        'B02001_002E',  # Estimate!!Total!!White alone\n",
    "        'B02001_003E',  # Estimate!!Total!!Black or African American alone\n",
    "        'B02001_004E',  # Estimate!!Total!!American Indian and Alaska Native alone\n",
    "        'B02001_005E',  # Estimate!!Total!!Asian alone\n",
    "        'B02001_006E',  # Estimate!!Total!!Native Hawaiian and Other Pacific Islander alone\n",
    "        'B02001_007E',  # Estimate!!Total!!Some other race alone\n",
    "        'B02001_008E',  # Estimate!!Total!!Two or more races\n",
    "        'B02001_009E',  # Estimate!!Total!!Two or more races!!Two races including Some other race\n",
    "        'B02001_010E'   # Estimate!!Total!!Two or more races!!Two races excluding Some other race, and three or more races\n",
    "    ]\n",
    "\n",
    "# Define variables\n",
    "variables_url = 'https://api.census.gov/data/2009/acs/acs5/variables.html'\n",
    "\n",
    "# Request the variables page\n",
    "response = requests.get(variables_url)\n",
    "\n",
    "# Parse the variables page to extract labels\n",
    "if response.status_code == 200:\n",
    "    soup = BeautifulSoup(response.content, 'html.parser')\n",
    "    table = soup.find_all('table')\n",
    "\n",
    "    # Extract variable labels if the table exists\n",
    "    if table:\n",
    "        rows = table[0].find_all('tr')[1:] \n",
    "        variable_label_mapping = {}\n",
    "        for row in rows[1:]:  # Skip the header row\n",
    "            cols = row.find_all('td')\n",
    "            if len(cols) >= 2:\n",
    "                variable_code = cols[0].text.strip()  # Get variable code\n",
    "                variable_label = cols[1].text.strip()  # Get variable label\n",
    "\n",
    "                variable_label_mapping[variable_code] = variable_label  \n"
   ]
  },
  {
   "cell_type": "code",
   "execution_count": 4,
   "id": "255e5d3f-ac35-4fa8-88ac-bb823fcad01c",
   "metadata": {},
   "outputs": [
    {
     "name": "stdout",
     "output_type": "stream",
     "text": [
      "time: 0 ns (started: 2024-10-17 03:41:21 -04:00)\n"
     ]
    }
   ],
   "source": [
    "# variable_label_mapping"
   ]
  },
  {
   "cell_type": "code",
   "execution_count": 5,
   "id": "660ffeb8-23a5-46d0-af9a-178b97ac7979",
   "metadata": {},
   "outputs": [
    {
     "name": "stdout",
     "output_type": "stream",
     "text": [
      "time: 0 ns (started: 2024-10-17 03:41:21 -04:00)\n"
     ]
    }
   ],
   "source": [
    "# the URl for the ACS 5-year data\n",
    "url = f'https://api.census.gov/data/2009/acs/acs5?get=NAME,{\",\".join(race_variable)}&for=state:*&key={api_key}'\n"
   ]
  },
  {
   "cell_type": "code",
   "execution_count": 6,
   "id": "694ddcde-21a2-4b06-87cf-f52c226571cf",
   "metadata": {},
   "outputs": [
    {
     "name": "stdout",
     "output_type": "stream",
     "text": [
      "time: 1.16 s (started: 2024-10-17 03:41:21 -04:00)\n"
     ]
    }
   ],
   "source": [
    "# Fetch the census data\n",
    "data_response = requests.get(url)\n",
    "\n",
    "if data_response.status_code ==200:\n",
    "    data= data_response.json()\n",
    "    columns = data[0]\n",
    "\n",
    "    # Creating the DataFrame\n",
    "    df =pd.DataFrame(data[1:],columns= columns)\n",
    "\n",
    "    # Rename the columns using the mapping\n",
    "    df.rename(columns={code: variable_label_mapping.get(code, code) for code in race_variable}, inplace =True)\n",
    "\n",
    "    # Adjust the index\n",
    "    df.index = df.index+1\n",
    "\n",
    "    # Select only relevant columns('NAME' and race variables)\n",
    "    df = df[['NAME'] + [variable_label_mapping[code] for code in race_variable]]"
   ]
  },
  {
   "cell_type": "code",
   "execution_count": 7,
   "id": "f43d6662-a3be-44f4-9bec-f22b8558b743",
   "metadata": {},
   "outputs": [
    {
     "data": {
      "text/html": [
       "<div>\n",
       "<style scoped>\n",
       "    .dataframe tbody tr th:only-of-type {\n",
       "        vertical-align: middle;\n",
       "    }\n",
       "\n",
       "    .dataframe tbody tr th {\n",
       "        vertical-align: top;\n",
       "    }\n",
       "\n",
       "    .dataframe thead th {\n",
       "        text-align: right;\n",
       "    }\n",
       "</style>\n",
       "<table border=\"1\" class=\"dataframe\">\n",
       "  <thead>\n",
       "    <tr style=\"text-align: right;\">\n",
       "      <th></th>\n",
       "      <th>NAME</th>\n",
       "      <th>Estimate!!Total</th>\n",
       "      <th>Estimate!!Total!!White alone</th>\n",
       "      <th>Estimate!!Total!!Black or African American alone</th>\n",
       "      <th>Estimate!!Total!!American Indian and Alaska Native alone</th>\n",
       "      <th>Estimate!!Total!!Asian alone</th>\n",
       "      <th>Estimate!!Total!!Native Hawaiian and Other Pacific Islander alone</th>\n",
       "      <th>Estimate!!Total!!Some other race alone</th>\n",
       "      <th>Estimate!!Total!!Two or more races</th>\n",
       "      <th>Estimate!!Total!!Two or more races!!Two races including Some other race</th>\n",
       "      <th>Estimate!!Total!!Two or more races!!Two races excluding Some other race, and three or more races</th>\n",
       "    </tr>\n",
       "  </thead>\n",
       "  <tbody>\n",
       "    <tr>\n",
       "      <th>1</th>\n",
       "      <td>Alabama</td>\n",
       "      <td>4633360</td>\n",
       "      <td>3256941</td>\n",
       "      <td>1209938</td>\n",
       "      <td>22969</td>\n",
       "      <td>46655</td>\n",
       "      <td>2025</td>\n",
       "      <td>38342</td>\n",
       "      <td>56490</td>\n",
       "      <td>4421</td>\n",
       "      <td>52069</td>\n",
       "    </tr>\n",
       "    <tr>\n",
       "      <th>2</th>\n",
       "      <td>Alaska</td>\n",
       "      <td>683142</td>\n",
       "      <td>467650</td>\n",
       "      <td>25161</td>\n",
       "      <td>91939</td>\n",
       "      <td>31878</td>\n",
       "      <td>4269</td>\n",
       "      <td>11613</td>\n",
       "      <td>50632</td>\n",
       "      <td>2811</td>\n",
       "      <td>47821</td>\n",
       "    </tr>\n",
       "    <tr>\n",
       "      <th>3</th>\n",
       "      <td>Arizona</td>\n",
       "      <td>6324865</td>\n",
       "      <td>4906936</td>\n",
       "      <td>227282</td>\n",
       "      <td>284265</td>\n",
       "      <td>153301</td>\n",
       "      <td>11045</td>\n",
       "      <td>577781</td>\n",
       "      <td>164255</td>\n",
       "      <td>51463</td>\n",
       "      <td>112792</td>\n",
       "    </tr>\n",
       "    <tr>\n",
       "      <th>4</th>\n",
       "      <td>Arkansas</td>\n",
       "      <td>2838143</td>\n",
       "      <td>2228798</td>\n",
       "      <td>439355</td>\n",
       "      <td>19233</td>\n",
       "      <td>31120</td>\n",
       "      <td>2505</td>\n",
       "      <td>67135</td>\n",
       "      <td>49997</td>\n",
       "      <td>4819</td>\n",
       "      <td>45178</td>\n",
       "    </tr>\n",
       "    <tr>\n",
       "      <th>5</th>\n",
       "      <td>California</td>\n",
       "      <td>36308527</td>\n",
       "      <td>22258042</td>\n",
       "      <td>2249404</td>\n",
       "      <td>283031</td>\n",
       "      <td>4473292</td>\n",
       "      <td>132535</td>\n",
       "      <td>5639234</td>\n",
       "      <td>1272989</td>\n",
       "      <td>383694</td>\n",
       "      <td>889295</td>\n",
       "    </tr>\n",
       "  </tbody>\n",
       "</table>\n",
       "</div>"
      ],
      "text/plain": [
       "         NAME Estimate!!Total Estimate!!Total!!White alone  \\\n",
       "1     Alabama         4633360                      3256941   \n",
       "2      Alaska          683142                       467650   \n",
       "3     Arizona         6324865                      4906936   \n",
       "4    Arkansas         2838143                      2228798   \n",
       "5  California        36308527                     22258042   \n",
       "\n",
       "  Estimate!!Total!!Black or African American alone  \\\n",
       "1                                          1209938   \n",
       "2                                            25161   \n",
       "3                                           227282   \n",
       "4                                           439355   \n",
       "5                                          2249404   \n",
       "\n",
       "  Estimate!!Total!!American Indian and Alaska Native alone  \\\n",
       "1                                              22969         \n",
       "2                                              91939         \n",
       "3                                             284265         \n",
       "4                                              19233         \n",
       "5                                             283031         \n",
       "\n",
       "  Estimate!!Total!!Asian alone  \\\n",
       "1                        46655   \n",
       "2                        31878   \n",
       "3                       153301   \n",
       "4                        31120   \n",
       "5                      4473292   \n",
       "\n",
       "  Estimate!!Total!!Native Hawaiian and Other Pacific Islander alone  \\\n",
       "1                                               2025                  \n",
       "2                                               4269                  \n",
       "3                                              11045                  \n",
       "4                                               2505                  \n",
       "5                                             132535                  \n",
       "\n",
       "  Estimate!!Total!!Some other race alone Estimate!!Total!!Two or more races  \\\n",
       "1                                  38342                              56490   \n",
       "2                                  11613                              50632   \n",
       "3                                 577781                             164255   \n",
       "4                                  67135                              49997   \n",
       "5                                5639234                            1272989   \n",
       "\n",
       "  Estimate!!Total!!Two or more races!!Two races including Some other race  \\\n",
       "1                                               4421                        \n",
       "2                                               2811                        \n",
       "3                                              51463                        \n",
       "4                                               4819                        \n",
       "5                                             383694                        \n",
       "\n",
       "  Estimate!!Total!!Two or more races!!Two races excluding Some other race, and three or more races  \n",
       "1                                              52069                                                \n",
       "2                                              47821                                                \n",
       "3                                             112792                                                \n",
       "4                                              45178                                                \n",
       "5                                             889295                                                "
      ]
     },
     "execution_count": 7,
     "metadata": {},
     "output_type": "execute_result"
    },
    {
     "name": "stdout",
     "output_type": "stream",
     "text": [
      "time: 47 ms (started: 2024-10-17 03:41:22 -04:00)\n"
     ]
    }
   ],
   "source": [
    "# Display the data\n",
    "df.head()"
   ]
  },
  {
   "cell_type": "code",
   "execution_count": 8,
   "id": "6584cd2e-f890-4338-91b8-50d643a8e027",
   "metadata": {},
   "outputs": [
    {
     "name": "stdout",
     "output_type": "stream",
     "text": [
      "time: 15 ms (started: 2024-10-17 03:41:23 -04:00)\n"
     ]
    }
   ],
   "source": [
    "# Conversion of DataFrame to CSV file\n",
    "df.to_csv('census_data_all_state_2009.csv', index=False)"
   ]
  },
  {
   "cell_type": "code",
   "execution_count": null,
   "id": "69a5a237-43a5-4f35-a9e2-cffc7cf34b6b",
   "metadata": {},
   "outputs": [],
   "source": []
  }
 ],
 "metadata": {
  "kernelspec": {
   "display_name": "Python 3 (ipykernel)",
   "language": "python",
   "name": "python3"
  },
  "language_info": {
   "codemirror_mode": {
    "name": "ipython",
    "version": 3
   },
   "file_extension": ".py",
   "mimetype": "text/x-python",
   "name": "python",
   "nbconvert_exporter": "python",
   "pygments_lexer": "ipython3",
   "version": "3.12.4"
  }
 },
 "nbformat": 4,
 "nbformat_minor": 5
}
