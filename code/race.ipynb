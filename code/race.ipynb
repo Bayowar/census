{
 "cells": [
  {
   "cell_type": "markdown",
   "id": "23f228d0-f6dc-4f56-bd9a-3592b0a44a4e",
   "metadata": {},
   "source": [
    "######### https://api.census.gov/data/2020/acs/acs5/variables.html"
   ]
  },
  {
   "cell_type": "markdown",
   "id": "bbed7e52-a4a2-4fd7-85ab-c7ad026dad38",
   "metadata": {},
   "source": [
    "### Import Necessary Libraries"
   ]
  },
  {
   "cell_type": "code",
   "execution_count": 3,
   "id": "3fb7f98e-fe3a-44ab-9c82-b91c204daa7f",
   "metadata": {},
   "outputs": [
    {
     "name": "stdout",
     "output_type": "stream",
     "text": [
      "time: 1.98 s (started: 2024-09-24 00:47:05 -04:00)\n"
     ]
    }
   ],
   "source": [
    "# Load necessary libraries\n",
    "%load_ext autotime\n",
    "import pandas as pd\n",
    "import numpy as np\n",
    "import matplotlib.pyplot as plt\n",
    "from bs4 import BeautifulSoup\n",
    "from census import Census\n",
    "from us import states\n",
    "import os\n",
    "from dotenv import load_dotenv\n",
    "import requests"
   ]
  },
  {
   "cell_type": "code",
   "execution_count": 4,
   "id": "c649867d-bd16-4ab2-bbdc-70204422f213",
   "metadata": {},
   "outputs": [
    {
     "name": "stdout",
     "output_type": "stream",
     "text": [
      "time: 0 ns (started: 2024-09-24 00:47:07 -04:00)\n"
     ]
    }
   ],
   "source": [
    "# Load environment variables\n",
    "load_dotenv(dotenv_path='key.env')\n",
    "\n",
    "# Retrieve API key from the enivronment\n",
    "api_key = os.getenv('API_KEY')\n"
   ]
  },
  {
   "cell_type": "markdown",
   "id": "cd668075-acdc-4ac4-96c2-6e8155449628",
   "metadata": {},
   "source": [
    "### Fetch and Parse Census Variables Information"
   ]
  },
  {
   "cell_type": "code",
   "execution_count": 6,
   "id": "66187116-2780-404b-954d-e53d947f66f7",
   "metadata": {},
   "outputs": [
    {
     "name": "stdout",
     "output_type": "stream",
     "text": [
      "time: 8.77 s (started: 2024-09-24 00:47:07 -04:00)\n"
     ]
    }
   ],
   "source": [
    "# Load the URl to get the variables from the 2009 ACS datset\n",
    "variables_url = 'https://api.census.gov/data/2009/acs/acs5/variables.html'\n",
    "\n",
    "# send a request to the url\n",
    "response = requests.get(variables_url)\n",
    "\n",
    "# check if the response is successful\n",
    "if response.status_code ==200:\n",
    "    # Parse the content using BeautifulSoup\n",
    "    soup = BeautifulSoup(response.content, 'html.parser')\n",
    "    \n",
    "    # Find the table in the parsed HTML\n",
    "    table = soup.find('table')\n",
    "\n",
    "    # Prceed if the table is found\n",
    "    if table:\n",
    "        # Extract all table rows\n",
    "        rows = table.find_all('tr')\n",
    "\n",
    "        # Initialize a dict to map variable codes to their labels\n",
    "        variable_label_mapping = {}\n",
    "        # Loop through each row, starting from the second\n",
    "        # we are skipping the first row as it is header\n",
    "        for row in rows[1:]:\n",
    "            # Extract columns \n",
    "            cols = row.find_all('td')\n",
    "            if len(cols) >=2:\n",
    "                # Get the varibale code and label\n",
    "                variable_code = cols[0].text.strip()\n",
    "                variable_label = cols[1].text.strip()\n",
    "\n",
    "                # Store the mapping of varibales code to label\n",
    "                variable_label_mapping[variable_code] = variable_label\n",
    "\n",
    "\n",
    "    "
   ]
  },
  {
   "cell_type": "markdown",
   "id": "75005b34-90de-42b4-876d-bddc2d575e45",
   "metadata": {},
   "source": [
    "### Define Race Variables and Buid API Request"
   ]
  },
  {
   "cell_type": "code",
   "execution_count": 8,
   "id": "af008bcd-61be-4bf2-a3e9-59c58fc028a1",
   "metadata": {},
   "outputs": [
    {
     "name": "stdout",
     "output_type": "stream",
     "text": [
      "time: 0 ns (started: 2024-09-24 00:47:16 -04:00)\n"
     ]
    }
   ],
   "source": [
    "# Define the list of race-related variable codes\n",
    "race_variable_codes = [\n",
    "        'B02001_001E', 'B02001_002E', 'B02001_003E', 'B02001_004E', \n",
    "        'B02001_005E', 'B02001_006E', 'B02001_007E', 'B02001_008E'\n",
    "    ]\n",
    "\n",
    "# construct the url to request race-related data from the Census API\n",
    "url = f'https://api.census.gov/data/2009/acs/acs5?get=NAME,{\",\".join(race_variable_codes)}&for=state:11&key={api_key}'\n"
   ]
  },
  {
   "cell_type": "markdown",
   "id": "22d39fb5-1071-49a0-86f6-8ce38002f56c",
   "metadata": {},
   "source": [
    "### Fetch and Process Census Data"
   ]
  },
  {
   "cell_type": "code",
   "execution_count": 10,
   "id": "471de4ba-ec2f-4336-96bf-bd2e3451b5aa",
   "metadata": {},
   "outputs": [
    {
     "name": "stdout",
     "output_type": "stream",
     "text": [
      "time: 625 ms (started: 2024-09-24 00:47:16 -04:00)\n"
     ]
    }
   ],
   "source": [
    "# Send the request to the Census API to get the race data\n",
    "data_response = requests.get(url)\n",
    "\n",
    "# Check if the response is successful\n",
    "if data_response.status_code ==200:\n",
    "    # Parse the JSON responce\n",
    "    data = data_response.json()\n",
    "\n",
    "    # Extract the columns using the varibale label mapping\n",
    "    columns = data[0]    # First row contains column names\n",
    "    df = pd.DataFrame(data[1:], columns=columns)     # Create DataFrame with data\n",
    "\n",
    "    # Rename the columns using the variable label mapping\n",
    "    df.rename(columns={code: variable_label_mapping.get(code, code) for code in race_variable_codes}, inplace=True)\n",
    "\n",
    "    # Select only the relevant columns (state name and race- related data)\n",
    "    df = df[['NAME']+ [variable_label_mapping[code] for code in race_variable_codes]]"
   ]
  },
  {
   "cell_type": "code",
   "execution_count": 11,
   "id": "4e6894a8-1eb0-45b2-963e-598d85bacba0",
   "metadata": {},
   "outputs": [
    {
     "data": {
      "text/html": [
       "<div>\n",
       "<style scoped>\n",
       "    .dataframe tbody tr th:only-of-type {\n",
       "        vertical-align: middle;\n",
       "    }\n",
       "\n",
       "    .dataframe tbody tr th {\n",
       "        vertical-align: top;\n",
       "    }\n",
       "\n",
       "    .dataframe thead th {\n",
       "        text-align: right;\n",
       "    }\n",
       "</style>\n",
       "<table border=\"1\" class=\"dataframe\">\n",
       "  <thead>\n",
       "    <tr style=\"text-align: right;\">\n",
       "      <th></th>\n",
       "      <th>NAME</th>\n",
       "      <th>Estimate!!Total</th>\n",
       "      <th>Estimate!!Total!!White alone</th>\n",
       "      <th>Estimate!!Total!!Black or African American alone</th>\n",
       "      <th>Estimate!!Total!!American Indian and Alaska Native alone</th>\n",
       "      <th>Estimate!!Total!!Asian alone</th>\n",
       "      <th>Estimate!!Total!!Native Hawaiian and Other Pacific Islander alone</th>\n",
       "      <th>Estimate!!Total!!Some other race alone</th>\n",
       "      <th>Estimate!!Total!!Two or more races</th>\n",
       "    </tr>\n",
       "  </thead>\n",
       "  <tbody>\n",
       "    <tr>\n",
       "      <th>0</th>\n",
       "      <td>District of Columbia</td>\n",
       "      <td>588433</td>\n",
       "      <td>210983</td>\n",
       "      <td>324631</td>\n",
       "      <td>1573</td>\n",
       "      <td>17439</td>\n",
       "      <td>426</td>\n",
       "      <td>23935</td>\n",
       "      <td>9446</td>\n",
       "    </tr>\n",
       "  </tbody>\n",
       "</table>\n",
       "</div>"
      ],
      "text/plain": [
       "                   NAME Estimate!!Total Estimate!!Total!!White alone  \\\n",
       "0  District of Columbia          588433                       210983   \n",
       "\n",
       "  Estimate!!Total!!Black or African American alone  \\\n",
       "0                                           324631   \n",
       "\n",
       "  Estimate!!Total!!American Indian and Alaska Native alone  \\\n",
       "0                                               1573         \n",
       "\n",
       "  Estimate!!Total!!Asian alone  \\\n",
       "0                        17439   \n",
       "\n",
       "  Estimate!!Total!!Native Hawaiian and Other Pacific Islander alone  \\\n",
       "0                                                426                  \n",
       "\n",
       "  Estimate!!Total!!Some other race alone Estimate!!Total!!Two or more races  \n",
       "0                                  23935                               9446  "
      ]
     },
     "execution_count": 11,
     "metadata": {},
     "output_type": "execute_result"
    },
    {
     "name": "stdout",
     "output_type": "stream",
     "text": [
      "time: 47 ms (started: 2024-09-24 00:47:17 -04:00)\n"
     ]
    }
   ],
   "source": [
    "# Display the first few rows of the DataFrame to check the result\n",
    "df.head(10)"
   ]
  },
  {
   "cell_type": "code",
   "execution_count": 12,
   "id": "7d9d582b-0d4c-4525-9379-ea2deab9f1ec",
   "metadata": {},
   "outputs": [
    {
     "name": "stdout",
     "output_type": "stream",
     "text": [
      "time: 0 ns (started: 2024-09-24 00:47:17 -04:00)\n"
     ]
    }
   ],
   "source": [
    "# save the dataframe to a CSV file\n",
    "df.to_csv('census_data_dc_2009.csv', index=False)"
   ]
  },
  {
   "cell_type": "code",
   "execution_count": null,
   "id": "dafe49a7-48c8-4175-9f74-935739d5ffb7",
   "metadata": {},
   "outputs": [],
   "source": []
  },
  {
   "cell_type": "code",
   "execution_count": null,
   "id": "fe86a230-c3df-4e47-846f-247b03ad1572",
   "metadata": {},
   "outputs": [],
   "source": []
  },
  {
   "cell_type": "code",
   "execution_count": null,
   "id": "52fe23df-c3ff-479b-b49c-8f2d14781a42",
   "metadata": {},
   "outputs": [],
   "source": []
  }
 ],
 "metadata": {
  "kernelspec": {
   "display_name": "Python 3 (ipykernel)",
   "language": "python",
   "name": "python3"
  },
  "language_info": {
   "codemirror_mode": {
    "name": "ipython",
    "version": 3
   },
   "file_extension": ".py",
   "mimetype": "text/x-python",
   "name": "python",
   "nbconvert_exporter": "python",
   "pygments_lexer": "ipython3",
   "version": "3.12.4"
  }
 },
 "nbformat": 4,
 "nbformat_minor": 5
}
