{
 "cells": [
  {
   "cell_type": "code",
   "execution_count": 1,
   "id": "0ebdf6ff-ddd1-42ee-982a-f99950d71ff6",
   "metadata": {},
   "outputs": [
    {
     "name": "stdout",
     "output_type": "stream",
     "text": [
      "time: 2.42 s (started: 2024-11-07 10:56:16 -05:00)\n"
     ]
    }
   ],
   "source": [
    "# Load necessary libraries\n",
    "%load_ext autotime\n",
    "import pandas as pd\n",
    "import requests\n",
    "from bs4 import BeautifulSoup\n",
    "from census import Census\n",
    "import os\n",
    "from dotenv import load_dotenv\n"
   ]
  },
  {
   "cell_type": "code",
   "execution_count": 2,
   "id": "07dd835f-42f3-4364-b942-fe35d5b93e41",
   "metadata": {},
   "outputs": [
    {
     "name": "stdout",
     "output_type": "stream",
     "text": [
      "time: 0 ns (started: 2024-11-07 10:56:19 -05:00)\n"
     ]
    }
   ],
   "source": [
    "# Load API key from enivornment variable\n",
    "load_dotenv(dotenv_path='key.env')\n",
    "api_key=os.getenv('API_KEY')"
   ]
  },
  {
   "cell_type": "code",
   "execution_count": 3,
   "id": "bdaff3b9-1eb4-4743-9c1e-09bf1a7c6402",
   "metadata": {},
   "outputs": [
    {
     "name": "stdout",
     "output_type": "stream",
     "text": [
      "time: 15 ms (started: 2024-11-07 10:56:19 -05:00)\n"
     ]
    }
   ],
   "source": [
    "race_variable = [\n",
    "        'B02001_001E',  # Estimate!!Total\n",
    "        'B02001_002E',  # Estimate!!Total!!White alone\n",
    "        'B02001_003E',  # Estimate!!Total!!Black or African American alone\n",
    "        'B02001_004E',  # Estimate!!Total!!American Indian and Alaska Native alone\n",
    "        'B02001_005E',  # Estimate!!Total!!Asian alone\n",
    "        'B02001_006E',  # Estimate!!Total!!Native Hawaiian and Other Pacific Islander alone\n",
    "        'B02001_007E',  # Estimate!!Total!!Some other race alone\n",
    "        'B02001_008E',  # Estimate!!Total!!Two or more races\n",
    "        'B02001_009E',  # Estimate!!Total!!Two or more races!!Two races including Some other race\n",
    "        'B02001_010E'   # Estimate!!Total!!Two or more races!!Two races excluding Some other race, and three or more races\n",
    "    ]\n",
    "\n"
   ]
  },
  {
   "cell_type": "code",
   "execution_count": 4,
   "id": "ee66e8fe-0b6b-48d1-bf18-51e2eb501f38",
   "metadata": {},
   "outputs": [
    {
     "name": "stdout",
     "output_type": "stream",
     "text": [
      "time: 15 ms (started: 2024-11-07 10:56:19 -05:00)\n"
     ]
    }
   ],
   "source": [
    "def fetch_variable_labels(year):\n",
    "    variable_label_mapping = {}\n",
    "    # Define variables url to extract the variable name\n",
    "    variables_url = f'https://api.census.gov/data/{year}/acs/acs1/variables.html'\n",
    "    \n",
    "    # Request the variables page\n",
    "    data_response = requests.get(variables_url)\n",
    "\n",
    "    # Parse the variables page to extract labels\n",
    "    if data_response.status_code == 200:\n",
    "        soup = BeautifulSoup(data_response.content, 'html.parser')\n",
    "        table = soup.find_all('table')\n",
    "\n",
    "        if table:\n",
    "            rows = table[0].find_all('tr')[1:] \n",
    "            for row in rows:  # Skip the header row\n",
    "                cols = row.find_all('td')\n",
    "                if len(cols) >= 2:\n",
    "                    variable_code = cols[0].text.strip()  # Get variable code\n",
    "                    variable_label = cols[1].text.strip()  # Get variable label\n",
    "\n",
    "                    variable_label_mapping[variable_code] = variable_label\n",
    "\n",
    "    return variable_label_mapping\n"
   ]
  },
  {
   "cell_type": "code",
   "execution_count": 5,
   "id": "2efcd821-61d6-4956-94ef-beb9df12d625",
   "metadata": {},
   "outputs": [
    {
     "name": "stdout",
     "output_type": "stream",
     "text": [
      "time: 16 ms (started: 2024-11-07 10:56:19 -05:00)\n"
     ]
    }
   ],
   "source": [
    "def fetch_census_data(year, variable_label_mapping, state=48):\n",
    "    url = f'https://api.census.gov/data/{year}/acs/acs1?get=NAME,{\",\".join(race_variable)}&for=state:{state}&key={api_key}'\n",
    "\n",
    "    data_response = requests.get(url)\n",
    "\n",
    "    if data_response.status_code ==200:\n",
    "        data= data_response.json()\n",
    "        header = data[0]\n",
    "        values = data[1][:-1]\n",
    "\n",
    "        row_dict = {\n",
    "            'YEAR' : year,\n",
    "            'NAME' : values[0]\n",
    "        }\n",
    "\n",
    "        for i, var_code in enumerate(race_variable):\n",
    "            label = variable_label_mapping.get(var_code, var_code)\n",
    "            row_dict[label] =int(values[i+1])\n",
    "        return row_dict\n",
    "        "
   ]
  },
  {
   "cell_type": "code",
   "execution_count": 6,
   "id": "f43d6662-a3be-44f4-9bec-f22b8558b743",
   "metadata": {},
   "outputs": [
    {
     "name": "stdout",
     "output_type": "stream",
     "text": [
      "time: 16 ms (started: 2024-11-07 10:56:19 -05:00)\n"
     ]
    }
   ],
   "source": [
    "def collect_all_years_data(start_year=1926, end_year=2026):\n",
    "    all_data = []\n",
    "    first_year_labels = None\n",
    "\n",
    "    for year in range(start_year,end_year+1):\n",
    "        print(f\"Processing year {year}...\")\n",
    "        variable_labels = fetch_variable_labels(year)\n",
    "\n",
    "        if first_year_labels is None and variable_labels:\n",
    "            first_year_labels = {code: label for code, label in variable_labels.items() if code in race_variable}\n",
    "\n",
    "        if first_year_labels:\n",
    "            year_data = fetch_census_data(year, first_year_labels)\n",
    "            if year_data:\n",
    "                all_data.append(year_data)\n",
    "    if all_data:\n",
    "        df = pd.DataFrame(all_data)\n",
    "\n",
    "        column_order = ['YEAR','NAME'] + [first_year_labels[var] for var in race_variable]\n",
    "        df = df[column_order]\n",
    "\n",
    "        return df"
   ]
  },
  {
   "cell_type": "code",
   "execution_count": 7,
   "id": "2a5ff926-9c3a-43a8-83ab-fa89c2950d41",
   "metadata": {},
   "outputs": [
    {
     "name": "stdout",
     "output_type": "stream",
     "text": [
      "Starting Data Coleection...\n",
      "Processing year 1926...\n",
      "Processing year 1927...\n",
      "Processing year 1928...\n",
      "Processing year 1929...\n",
      "Processing year 1930...\n",
      "Processing year 1931...\n",
      "Processing year 1932...\n",
      "Processing year 1933...\n",
      "Processing year 1934...\n",
      "Processing year 1935...\n",
      "Processing year 1936...\n",
      "Processing year 1937...\n",
      "Processing year 1938...\n",
      "Processing year 1939...\n",
      "Processing year 1940...\n",
      "Processing year 1941...\n",
      "Processing year 1942...\n",
      "Processing year 1943...\n",
      "Processing year 1944...\n",
      "Processing year 1945...\n",
      "Processing year 1946...\n",
      "Processing year 1947...\n",
      "Processing year 1948...\n",
      "Processing year 1949...\n",
      "Processing year 1950...\n",
      "Processing year 1951...\n",
      "Processing year 1952...\n",
      "Processing year 1953...\n",
      "Processing year 1954...\n",
      "Processing year 1955...\n",
      "Processing year 1956...\n",
      "Processing year 1957...\n",
      "Processing year 1958...\n",
      "Processing year 1959...\n",
      "Processing year 1960...\n",
      "Processing year 1961...\n",
      "Processing year 1962...\n",
      "Processing year 1963...\n",
      "Processing year 1964...\n",
      "Processing year 1965...\n",
      "Processing year 1966...\n",
      "Processing year 1967...\n",
      "Processing year 1968...\n",
      "Processing year 1969...\n",
      "Processing year 1970...\n",
      "Processing year 1971...\n",
      "Processing year 1972...\n",
      "Processing year 1973...\n",
      "Processing year 1974...\n",
      "Processing year 1975...\n",
      "Processing year 1976...\n",
      "Processing year 1977...\n",
      "Processing year 1978...\n",
      "Processing year 1979...\n",
      "Processing year 1980...\n",
      "Processing year 1981...\n",
      "Processing year 1982...\n",
      "Processing year 1983...\n",
      "Processing year 1984...\n",
      "Processing year 1985...\n",
      "Processing year 1986...\n",
      "Processing year 1987...\n",
      "Processing year 1988...\n",
      "Processing year 1989...\n",
      "Processing year 1990...\n",
      "Processing year 1991...\n",
      "Processing year 1992...\n",
      "Processing year 1993...\n",
      "Processing year 1994...\n",
      "Processing year 1995...\n",
      "Processing year 1996...\n",
      "Processing year 1997...\n",
      "Processing year 1998...\n",
      "Processing year 1999...\n",
      "Processing year 2000...\n",
      "Processing year 2001...\n",
      "Processing year 2002...\n",
      "Processing year 2003...\n",
      "Processing year 2004...\n",
      "Processing year 2005...\n",
      "Processing year 2006...\n",
      "Processing year 2007...\n",
      "Processing year 2008...\n",
      "Processing year 2009...\n",
      "Processing year 2010...\n",
      "Processing year 2011...\n",
      "Processing year 2012...\n",
      "Processing year 2013...\n",
      "Processing year 2014...\n",
      "Processing year 2015...\n",
      "Processing year 2016...\n",
      "Processing year 2017...\n",
      "Processing year 2018...\n",
      "Processing year 2019...\n",
      "Processing year 2020...\n",
      "Processing year 2021...\n",
      "Processing year 2022...\n",
      "Processing year 2023...\n",
      "Processing year 2024...\n",
      "Processing year 2025...\n",
      "Processing year 2026...\n",
      "time: 3min 54s (started: 2024-11-07 10:56:19 -05:00)\n"
     ]
    }
   ],
   "source": [
    "print(\"Starting Data Coleection...\")\n",
    "df = collect_all_years_data()\n",
    "\n",
    "if df is not None:\n",
    "    output_files = \"TX_census_data_with_labels_acs5.csv\"\n",
    "    df.to_csv(output_files, index = False)"
   ]
  }
 ],
 "metadata": {
  "kernelspec": {
   "display_name": "Python 3 (ipykernel)",
   "language": "python",
   "name": "python3"
  },
  "language_info": {
   "codemirror_mode": {
    "name": "ipython",
    "version": 3
   },
   "file_extension": ".py",
   "mimetype": "text/x-python",
   "name": "python",
   "nbconvert_exporter": "python",
   "pygments_lexer": "ipython3",
   "version": "3.12.4"
  }
 },
 "nbformat": 4,
 "nbformat_minor": 5
}
